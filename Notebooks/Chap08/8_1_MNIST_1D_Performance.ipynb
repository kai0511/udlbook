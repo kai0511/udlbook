{
  "cells": [
    {
      "cell_type": "markdown",
      "metadata": {
        "id": "view-in-github",
        "colab_type": "text"
      },
      "source": [
        "<a href=\"https://colab.research.google.com/github/kai0511/udlbook/blob/main/Notebooks/Chap08/8_1_MNIST_1D_Performance.ipynb\" target=\"_parent\"><img src=\"https://colab.research.google.com/assets/colab-badge.svg\" alt=\"Open In Colab\"/></a>"
      ]
    },
    {
      "cell_type": "markdown",
      "metadata": {
        "id": "L6chybAVFJW2"
      },
      "source": [
        "# **Notebook 8.1: MNIST_1D_Performance**\n",
        "\n",
        "This notebook runs a simple neural network on the MNIST1D dataset as in figure 8.2a. It uses code from https://github.com/greydanus/mnist1d to generate the data.\n",
        "\n",
        "Work through the cells below, running each cell in turn. In various places you will see the words \"TODO\". Follow the instructions at these places and make predictions about what is going to happen or write code to complete the functions.\n",
        "\n",
        "Contact me at udlbookmail@gmail.com if you find any mistakes or have any suggestions."
      ]
    },
    {
      "cell_type": "code",
      "execution_count": 1,
      "metadata": {
        "id": "ifVjS4cTOqKz",
        "colab": {
          "base_uri": "https://localhost:8080/"
        },
        "outputId": "92726e69-f26f-403b-a4a1-a49a11ef3473"
      },
      "outputs": [
        {
          "output_type": "stream",
          "name": "stdout",
          "text": [
            "Collecting git+https://github.com/greydanus/mnist1d\n",
            "  Cloning https://github.com/greydanus/mnist1d to /tmp/pip-req-build-y8vyg9x7\n",
            "  Running command git clone --filter=blob:none --quiet https://github.com/greydanus/mnist1d /tmp/pip-req-build-y8vyg9x7\n",
            "  Resolved https://github.com/greydanus/mnist1d to commit 7878d96082abd200c546a07a4101fa90b30fdf7e\n",
            "  Installing build dependencies ... \u001b[?25l\u001b[?25hdone\n",
            "  Getting requirements to build wheel ... \u001b[?25l\u001b[?25hdone\n",
            "  Preparing metadata (pyproject.toml) ... \u001b[?25l\u001b[?25hdone\n",
            "Requirement already satisfied: requests in /usr/local/lib/python3.11/dist-packages (from mnist1d==0.0.2.post16) (2.32.3)\n",
            "Requirement already satisfied: numpy in /usr/local/lib/python3.11/dist-packages (from mnist1d==0.0.2.post16) (2.0.2)\n",
            "Requirement already satisfied: matplotlib in /usr/local/lib/python3.11/dist-packages (from mnist1d==0.0.2.post16) (3.10.0)\n",
            "Requirement already satisfied: scipy in /usr/local/lib/python3.11/dist-packages (from mnist1d==0.0.2.post16) (1.15.3)\n",
            "Requirement already satisfied: contourpy>=1.0.1 in /usr/local/lib/python3.11/dist-packages (from matplotlib->mnist1d==0.0.2.post16) (1.3.2)\n",
            "Requirement already satisfied: cycler>=0.10 in /usr/local/lib/python3.11/dist-packages (from matplotlib->mnist1d==0.0.2.post16) (0.12.1)\n",
            "Requirement already satisfied: fonttools>=4.22.0 in /usr/local/lib/python3.11/dist-packages (from matplotlib->mnist1d==0.0.2.post16) (4.58.1)\n",
            "Requirement already satisfied: kiwisolver>=1.3.1 in /usr/local/lib/python3.11/dist-packages (from matplotlib->mnist1d==0.0.2.post16) (1.4.8)\n",
            "Requirement already satisfied: packaging>=20.0 in /usr/local/lib/python3.11/dist-packages (from matplotlib->mnist1d==0.0.2.post16) (24.2)\n",
            "Requirement already satisfied: pillow>=8 in /usr/local/lib/python3.11/dist-packages (from matplotlib->mnist1d==0.0.2.post16) (11.2.1)\n",
            "Requirement already satisfied: pyparsing>=2.3.1 in /usr/local/lib/python3.11/dist-packages (from matplotlib->mnist1d==0.0.2.post16) (3.2.3)\n",
            "Requirement already satisfied: python-dateutil>=2.7 in /usr/local/lib/python3.11/dist-packages (from matplotlib->mnist1d==0.0.2.post16) (2.9.0.post0)\n",
            "Requirement already satisfied: charset-normalizer<4,>=2 in /usr/local/lib/python3.11/dist-packages (from requests->mnist1d==0.0.2.post16) (3.4.2)\n",
            "Requirement already satisfied: idna<4,>=2.5 in /usr/local/lib/python3.11/dist-packages (from requests->mnist1d==0.0.2.post16) (3.10)\n",
            "Requirement already satisfied: urllib3<3,>=1.21.1 in /usr/local/lib/python3.11/dist-packages (from requests->mnist1d==0.0.2.post16) (2.4.0)\n",
            "Requirement already satisfied: certifi>=2017.4.17 in /usr/local/lib/python3.11/dist-packages (from requests->mnist1d==0.0.2.post16) (2025.4.26)\n",
            "Requirement already satisfied: six>=1.5 in /usr/local/lib/python3.11/dist-packages (from python-dateutil>=2.7->matplotlib->mnist1d==0.0.2.post16) (1.17.0)\n",
            "Building wheels for collected packages: mnist1d\n",
            "  Building wheel for mnist1d (pyproject.toml) ... \u001b[?25l\u001b[?25hdone\n",
            "  Created wheel for mnist1d: filename=mnist1d-0.0.2.post16-py3-none-any.whl size=14665 sha256=7c8938b581aba9986335ec490175967428fcd040c9e8b99ad77d4876c0a1f073\n",
            "  Stored in directory: /tmp/pip-ephem-wheel-cache-c3eapsjk/wheels/d6/38/42/3d2112bc7d915f6195254ac85eb761d922d1b18f52817aa8e2\n",
            "Successfully built mnist1d\n",
            "Installing collected packages: mnist1d\n",
            "Successfully installed mnist1d-0.0.2.post16\n"
          ]
        }
      ],
      "source": [
        "# Run this if you're in a Colab to install MNIST 1D repository\n",
        "%pip install git+https://github.com/greydanus/mnist1d"
      ]
    },
    {
      "cell_type": "code",
      "execution_count": 2,
      "metadata": {
        "id": "qyE7G1StPIqO"
      },
      "outputs": [],
      "source": [
        "import torch, torch.nn as nn\n",
        "from torch.utils.data import TensorDataset, DataLoader\n",
        "from torch.optim.lr_scheduler import StepLR\n",
        "import numpy as np\n",
        "import matplotlib.pyplot as plt\n",
        "import mnist1d"
      ]
    },
    {
      "cell_type": "markdown",
      "metadata": {
        "id": "F7LNq72SP6jO"
      },
      "source": [
        "Let's generate a training and test dataset using the MNIST1D code.  The dataset gets saved as a .pkl file so it doesn't have to be regenerated each time."
      ]
    },
    {
      "cell_type": "code",
      "execution_count": 3,
      "metadata": {
        "id": "YLxf7dJfPaqw",
        "colab": {
          "base_uri": "https://localhost:8080/"
        },
        "outputId": "a1c92070-6f52-4f41-f2e8-3bba5809bd45"
      },
      "outputs": [
        {
          "output_type": "stream",
          "name": "stdout",
          "text": [
            "Did or could not load data from ./mnist1d_data.pkl. Rebuilding dataset...\n",
            "Examples in training set: 4000\n",
            "Examples in test set: 1000\n",
            "Length of each example: 40\n"
          ]
        }
      ],
      "source": [
        "args = mnist1d.data.get_dataset_args()\n",
        "data = mnist1d.data.get_dataset(args, path='./mnist1d_data.pkl', download=False, regenerate=False)\n",
        "\n",
        "# The training and test input and outputs are in\n",
        "# data['x'], data['y'], data['x_test'], and data['y_test']\n",
        "print(\"Examples in training set: {}\".format(len(data['y'])))\n",
        "print(\"Examples in test set: {}\".format(len(data['y_test'])))\n",
        "print(\"Length of each example: {}\".format(data['x'].shape[-1]))"
      ]
    },
    {
      "cell_type": "code",
      "source": [
        "data['x'][1:5,:]"
      ],
      "metadata": {
        "colab": {
          "base_uri": "https://localhost:8080/"
        },
        "id": "ZEAK8K4QEcAV",
        "outputId": "632d6389-bed8-4a14-cfa9-8d016f9976e3"
      },
      "execution_count": 13,
      "outputs": [
        {
          "output_type": "execute_result",
          "data": {
            "text/plain": [
              "array([[ 1.96548088e+00,  2.30021254e+00,  2.21339278e+00,\n",
              "         1.98917376e+00,  1.62766684e+00,  7.91194231e-01,\n",
              "         9.11250229e-01,  8.20722750e-01,  8.74335980e-01,\n",
              "         1.06792256e+00,  1.08346487e+00,  1.20577845e+00,\n",
              "         8.98117306e-01,  5.93068869e-01,  4.89409945e-02,\n",
              "        -1.92536555e-01,  1.59740034e-01,  2.40718460e-01,\n",
              "         1.54335566e-01,  4.73316670e-01, -7.29632669e-01,\n",
              "        -1.90898006e+00, -2.52958291e+00, -3.14912920e+00,\n",
              "        -3.09942786e+00, -2.99894199e+00, -2.67848034e+00,\n",
              "        -1.47769695e+00, -4.02469210e-01, -6.82521054e-01,\n",
              "        -4.50473954e-01,  4.16900224e-02,  5.25273294e-01,\n",
              "         7.85214799e-01,  3.54393063e-01, -9.15397036e-01,\n",
              "        -1.56132542e+00, -1.68751297e+00, -1.42642212e+00,\n",
              "        -1.36421511e+00],\n",
              "       [-1.93030337e-02,  7.86330784e-02,  6.24889086e-01,\n",
              "         6.19133845e-01,  3.56487016e-01,  1.65633371e-01,\n",
              "         8.74829217e-02, -1.99589325e-02, -1.55161711e+00,\n",
              "        -2.68225826e+00, -6.53038034e-01,  3.50025003e-01,\n",
              "         2.69805956e-01, -3.50966864e-02,  3.56631081e-01,\n",
              "         1.85679216e-01, -3.46609677e-01, -5.79346244e-01,\n",
              "        -3.29343078e-01,  4.20916990e-01,  3.37326150e-01,\n",
              "         3.19159061e-01, -2.01774472e-03,  1.12727212e-01,\n",
              "         9.37550259e-01,  9.99214818e-01,  9.08062069e-01,\n",
              "         7.31873612e-02, -8.86479974e-01, -4.16399885e-01,\n",
              "         1.21302646e-01,  1.35039892e-01, -7.06382240e-02,\n",
              "         7.09451769e-02,  1.62508955e-01, -4.17379658e-01,\n",
              "        -7.16736382e-01, -1.08555748e+00, -1.79809121e+00,\n",
              "        -2.31532820e+00],\n",
              "       [-1.05814967e+00, -1.32547428e+00, -1.30477805e+00,\n",
              "        -7.61439260e-01,  1.64556641e-01,  6.83691071e-01,\n",
              "         6.99401010e-01, -6.26368525e-02, -4.27878158e-02,\n",
              "        -1.60732530e-01, -1.35306775e+00, -1.24390121e+00,\n",
              "        -4.99509511e-01,  7.85979099e-01,  1.19179341e+00,\n",
              "         8.71633956e-01, -4.00425151e-01, -1.43679960e-01,\n",
              "         6.07775498e-01,  6.87003385e-01,  7.36816935e-01,\n",
              "         8.16460616e-01,  6.72110465e-01,  3.27773541e-01,\n",
              "         4.58373349e-01,  9.11940375e-01,  1.09687803e+00,\n",
              "         2.21501111e-01, -7.37259814e-01, -5.59785129e-01,\n",
              "        -1.93840778e-03,  2.51000893e-01,  6.21777204e-01,\n",
              "         3.07972081e-01,  1.67694558e-01,  2.27700291e-01,\n",
              "         1.78010716e-01, -7.56048673e-02, -7.46505300e-01,\n",
              "        -1.27613713e+00],\n",
              "       [-1.70285396e+00, -1.57111011e+00, -1.63905810e+00,\n",
              "        -1.62587555e+00, -1.29054405e+00, -2.66756070e+00,\n",
              "        -3.33612912e+00, -3.53380440e+00, -3.43879217e+00,\n",
              "        -2.72727405e+00, -1.40413153e+00,  8.88182239e-01,\n",
              "         7.33671025e-01,  9.15294267e-02, -2.29089263e-02,\n",
              "        -3.33859710e-01, -5.09996468e-01,  6.40227929e-02,\n",
              "         1.94653094e-01, -6.29436048e-02, -7.69739681e-02,\n",
              "        -2.64245079e-01, -1.31096367e-01,  3.18570592e-01,\n",
              "         6.81053480e-01,  8.14599711e-01,  7.21947677e-01,\n",
              "         3.29836337e-01, -1.94365003e-01,  2.91180191e-02,\n",
              "         4.63707069e-01,  9.08866506e-01,  1.39245444e+00,\n",
              "         1.00940435e+00,  1.03409517e+00,  4.61401219e-01,\n",
              "         4.68368971e-01,  3.74335149e-01,  5.91734875e-01,\n",
              "         7.34343471e-01]])"
            ]
          },
          "metadata": {},
          "execution_count": 13
        }
      ]
    },
    {
      "cell_type": "code",
      "execution_count": 19,
      "metadata": {
        "id": "FxaB5vc0uevl",
        "colab": {
          "base_uri": "https://localhost:8080/"
        },
        "outputId": "03a19818-6e8b-4c38-916f-87f8a2012679"
      },
      "outputs": [
        {
          "output_type": "execute_result",
          "data": {
            "text/plain": [
              "Sequential(\n",
              "  (0): Linear(in_features=40, out_features=100, bias=True)\n",
              "  (1): ReLU()\n",
              "  (2): Linear(in_features=100, out_features=100, bias=True)\n",
              "  (3): ReLU()\n",
              "  (4): Linear(in_features=100, out_features=10, bias=True)\n",
              ")"
            ]
          },
          "metadata": {},
          "execution_count": 19
        }
      ],
      "source": [
        "D_i = 40    # Input dimensions\n",
        "D_k = 100   # Hidden dimensions\n",
        "D_o = 10    # Output dimensions\n",
        "# TODO:\n",
        "# Define a model with two hidden layers of size 100\n",
        "# And ReLU activations between them\n",
        "# Replace this line (see Figure 7.8 of book for help):\n",
        "model = nn.Sequential(\n",
        "    nn.Linear(D_i, D_k),\n",
        "    nn.ReLU(),\n",
        "    nn.Linear(D_k, D_k),\n",
        "    nn.ReLU(),\n",
        "    torch.nn.Linear(D_k, D_o))\n",
        "\n",
        "def weights_init(layer_in):\n",
        "  # TODO:\n",
        "  # Initialize the parameters with He initialization\n",
        "  # Replace this line (see figure 7.8 of book for help)\n",
        "  # print(\"Initializing layer\")\n",
        "  if isinstance(layer_in, nn.Linear):\n",
        "    torch.nn.init.kaiming_normal_(layer_in.weight)\n",
        "    layer_in.bias.data.fill_(0.0)\n",
        "\n",
        "# Call the function you just defined\n",
        "model.apply(weights_init)\n"
      ]
    },
    {
      "cell_type": "code",
      "execution_count": 20,
      "metadata": {
        "id": "_rX6N3VyyQTY",
        "colab": {
          "base_uri": "https://localhost:8080/"
        },
        "outputId": "ad49fc80-c419-4db7-ff63-6548b99d1e6d"
      },
      "outputs": [
        {
          "output_type": "stream",
          "name": "stdout",
          "text": [
            "Epoch     0, train loss 1.581905, train error 60.92,  test loss 1.652707, test error 67.60\n",
            "Epoch     1, train loss 1.347008, train error 50.28,  test loss 1.488796, test error 57.10\n",
            "Epoch     2, train loss 1.122912, train error 40.47,  test loss 1.321242, test error 50.80\n",
            "Epoch     3, train loss 1.009420, train error 36.67,  test loss 1.284041, test error 49.90\n",
            "Epoch     4, train loss 0.853278, train error 30.38,  test loss 1.172740, test error 45.00\n",
            "Epoch     5, train loss 0.775081, train error 27.95,  test loss 1.184694, test error 46.20\n",
            "Epoch     6, train loss 0.732128, train error 26.57,  test loss 1.166674, test error 44.10\n",
            "Epoch     7, train loss 0.640020, train error 22.38,  test loss 1.113062, test error 43.00\n",
            "Epoch     8, train loss 0.561289, train error 20.00,  test loss 1.109737, test error 42.60\n",
            "Epoch     9, train loss 0.489261, train error 15.68,  test loss 1.065566, test error 41.20\n",
            "Epoch    10, train loss 0.394663, train error 11.10,  test loss 1.064148, test error 37.40\n",
            "Epoch    11, train loss 0.356125, train error 9.78,  test loss 1.038477, test error 38.50\n",
            "Epoch    12, train loss 0.329023, train error 8.88,  test loss 1.077339, test error 38.60\n",
            "Epoch    13, train loss 0.309453, train error 8.38,  test loss 1.103379, test error 38.30\n",
            "Epoch    14, train loss 0.277789, train error 6.72,  test loss 1.087065, test error 37.10\n",
            "Epoch    15, train loss 0.250242, train error 5.40,  test loss 1.130835, test error 38.10\n",
            "Epoch    16, train loss 0.226569, train error 4.55,  test loss 1.101142, test error 37.40\n",
            "Epoch    17, train loss 0.204512, train error 3.65,  test loss 1.115801, test error 36.90\n",
            "Epoch    18, train loss 0.199801, train error 3.82,  test loss 1.143045, test error 38.50\n",
            "Epoch    19, train loss 0.174999, train error 2.85,  test loss 1.185412, test error 37.10\n",
            "Epoch    20, train loss 0.149578, train error 1.62,  test loss 1.150600, test error 37.00\n",
            "Epoch    21, train loss 0.141019, train error 1.45,  test loss 1.172747, test error 36.10\n",
            "Epoch    22, train loss 0.132581, train error 1.18,  test loss 1.203946, test error 37.00\n",
            "Epoch    23, train loss 0.125998, train error 0.90,  test loss 1.214735, test error 36.30\n",
            "Epoch    24, train loss 0.121318, train error 1.12,  test loss 1.212487, test error 37.10\n",
            "Epoch    25, train loss 0.110648, train error 0.55,  test loss 1.211255, test error 37.00\n",
            "Epoch    26, train loss 0.104322, train error 0.45,  test loss 1.227731, test error 36.70\n",
            "Epoch    27, train loss 0.100625, train error 0.40,  test loss 1.237980, test error 36.20\n",
            "Epoch    28, train loss 0.095774, train error 0.45,  test loss 1.237395, test error 36.30\n",
            "Epoch    29, train loss 0.091401, train error 0.32,  test loss 1.276454, test error 37.40\n",
            "Epoch    30, train loss 0.086324, train error 0.20,  test loss 1.258272, test error 37.10\n",
            "Epoch    31, train loss 0.083977, train error 0.18,  test loss 1.271375, test error 37.30\n",
            "Epoch    32, train loss 0.082046, train error 0.20,  test loss 1.275760, test error 37.10\n",
            "Epoch    33, train loss 0.079526, train error 0.18,  test loss 1.280734, test error 37.00\n",
            "Epoch    34, train loss 0.077646, train error 0.18,  test loss 1.280563, test error 36.80\n",
            "Epoch    35, train loss 0.075963, train error 0.18,  test loss 1.283232, test error 36.50\n",
            "Epoch    36, train loss 0.074252, train error 0.18,  test loss 1.293642, test error 36.50\n",
            "Epoch    37, train loss 0.073050, train error 0.12,  test loss 1.303844, test error 37.50\n",
            "Epoch    38, train loss 0.070757, train error 0.10,  test loss 1.300521, test error 37.00\n",
            "Epoch    39, train loss 0.069916, train error 0.12,  test loss 1.316394, test error 37.10\n",
            "Epoch    40, train loss 0.068242, train error 0.12,  test loss 1.312609, test error 37.20\n",
            "Epoch    41, train loss 0.067447, train error 0.07,  test loss 1.312173, test error 36.80\n",
            "Epoch    42, train loss 0.066692, train error 0.10,  test loss 1.317684, test error 37.00\n",
            "Epoch    43, train loss 0.065961, train error 0.12,  test loss 1.320625, test error 36.80\n",
            "Epoch    44, train loss 0.065177, train error 0.07,  test loss 1.321025, test error 36.70\n",
            "Epoch    45, train loss 0.064645, train error 0.07,  test loss 1.325738, test error 37.00\n",
            "Epoch    46, train loss 0.063799, train error 0.07,  test loss 1.327847, test error 37.30\n",
            "Epoch    47, train loss 0.063284, train error 0.07,  test loss 1.333346, test error 37.00\n",
            "Epoch    48, train loss 0.062558, train error 0.05,  test loss 1.331814, test error 37.10\n",
            "Epoch    49, train loss 0.061914, train error 0.07,  test loss 1.335215, test error 36.90\n"
          ]
        }
      ],
      "source": [
        "# choose cross entropy loss function (equation 5.24)\n",
        "loss_function = torch.nn.CrossEntropyLoss()\n",
        "# construct SGD optimizer and initialize learning rate and momentum\n",
        "optimizer = torch.optim.SGD(model.parameters(), lr = 0.05, momentum=0.9)\n",
        "# object that decreases learning rate by half every 10 epochs\n",
        "scheduler = StepLR(optimizer, step_size=10, gamma=0.5)\n",
        "x_train = torch.tensor(data['x'].astype('float32'))\n",
        "y_train = torch.tensor(data['y'].transpose().astype('int64'))\n",
        "x_test= torch.tensor(data['x_test'].astype('float32'))\n",
        "y_test = torch.tensor(data['y_test'].astype('int64'))\n",
        "\n",
        "# load the data into a class that creates the batches\n",
        "data_loader = DataLoader(TensorDataset(x_train,y_train), batch_size=100, shuffle=True, worker_init_fn=np.random.seed(1))\n",
        "\n",
        "# Initialize model weights\n",
        "model.apply(weights_init)\n",
        "\n",
        "# loop over the dataset n_epoch times\n",
        "n_epoch = 50\n",
        "# store the loss and the % correct at each epoch\n",
        "losses_train = np.zeros((n_epoch))\n",
        "errors_train = np.zeros((n_epoch))\n",
        "losses_test = np.zeros((n_epoch))\n",
        "errors_test = np.zeros((n_epoch))\n",
        "\n",
        "for epoch in range(n_epoch):\n",
        "  # loop over batches\n",
        "  for i, batch in enumerate(data_loader):\n",
        "    # retrieve inputs and labels for this batch\n",
        "    x_batch, y_batch = batch\n",
        "    # zero the parameter gradients\n",
        "    optimizer.zero_grad()\n",
        "    # forward pass -- calculate model output\n",
        "    pred = model(x_batch)\n",
        "    # compute the loss\n",
        "    loss = loss_function(pred, y_batch)\n",
        "    # backward pass\n",
        "    loss.backward()\n",
        "    # SGD update\n",
        "    optimizer.step()\n",
        "\n",
        "  # Run whole dataset to get statistics -- normally wouldn't do this\n",
        "  pred_train = model(x_train)\n",
        "  pred_test = model(x_test)\n",
        "  _, predicted_train_class = torch.max(pred_train.data, 1)\n",
        "  _, predicted_test_class = torch.max(pred_test.data, 1)\n",
        "  errors_train[epoch] = 100 - 100 * (predicted_train_class == y_train).float().sum() / len(y_train)\n",
        "  errors_test[epoch]= 100 - 100 * (predicted_test_class == y_test).float().sum() / len(y_test)\n",
        "  losses_train[epoch] = loss_function(pred_train, y_train).item()\n",
        "  losses_test[epoch]= loss_function(pred_test, y_test).item()\n",
        "  print(f'Epoch {epoch:5d}, train loss {losses_train[epoch]:.6f}, train error {errors_train[epoch]:3.2f},  test loss {losses_test[epoch]:.6f}, test error {errors_test[epoch]:3.2f}')\n",
        "\n",
        "  # tell scheduler to consider updating learning rate\n",
        "  scheduler.step()"
      ]
    },
    {
      "cell_type": "code",
      "execution_count": 21,
      "metadata": {
        "id": "yI-l6kA_EH9G",
        "colab": {
          "base_uri": "https://localhost:8080/",
          "height": 927
        },
        "outputId": "8ba05ee4-91aa-48ae-f38c-af55d957d9dd"
      },
      "outputs": [
        {
          "output_type": "display_data",
          "data": {
            "text/plain": [
              "<Figure size 640x480 with 1 Axes>"
            ],
            "image/png": "[encoded data removed]"
          },
          "metadata": {}
        },
        {
          "output_type": "display_data",
          "data": {
            "text/plain": [
              "<Figure size 640x480 with 1 Axes>"
            ],
            "image/png": "[encoded data removed]"
          },
          "metadata": {}
        }
      ],
      "source": [
        "# Plot the results\n",
        "fig, ax = plt.subplots()\n",
        "ax.plot(errors_train,'r-',label='train')\n",
        "ax.plot(errors_test,'b-',label='test')\n",
        "ax.set_ylim(0,100); ax.set_xlim(0,n_epoch)\n",
        "ax.set_xlabel('Epoch'); ax.set_ylabel('Error')\n",
        "ax.set_title('TrainError %3.2f, Test Error %3.2f'%(errors_train[-1],errors_test[-1]))\n",
        "ax.legend()\n",
        "plt.show()\n",
        "\n",
        "# Plot the results\n",
        "fig, ax = plt.subplots()\n",
        "ax.plot(losses_train,'r-',label='train')\n",
        "ax.plot(losses_test,'b-',label='test')\n",
        "ax.set_xlim(0,n_epoch)\n",
        "ax.set_xlabel('Epoch'); ax.set_ylabel('Loss')\n",
        "ax.set_title('Train loss %3.2f, Test loss %3.2f'%(losses_train[-1],losses_test[-1]))\n",
        "ax.legend()\n",
        "plt.show()"
      ]
    },
    {
      "cell_type": "markdown",
      "metadata": {
        "id": "q-yT6re6GZS4"
      },
      "source": [
        "**TODO**\n",
        "\n",
        "Play with the model -- try changing the number of layers, hidden units, learning rate, batch size, momentum or anything else you like.  See if you can improve the test results.\n",
        "\n",
        "Is it a good idea to optimize the hyperparameters in this way?  Will the final result be a good estimate of the true test performance?"
      ]
    }
  ],
  "metadata": {
    "accelerator": "GPU",
    "colab": {
      "gpuType": "T4",
      "provenance": [],
      "include_colab_link": true
    },
    "kernelspec": {
      "display_name": "Python 3",
      "name": "python3"
    },
    "language_info": {
      "name": "python"
    }
  },
  "nbformat": 4,
  "nbformat_minor": 0
}